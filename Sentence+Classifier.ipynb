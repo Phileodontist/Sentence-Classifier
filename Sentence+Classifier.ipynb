{
 "cells": [
  {
   "cell_type": "markdown",
   "metadata": {},
   "source": [
    "# Sentence Classification "
   ]
  },
  {
   "cell_type": "markdown",
   "metadata": {},
   "source": [
    "## Pre-Processing Step"
   ]
  },
  {
   "cell_type": "code",
   "execution_count": 17,
   "metadata": {},
   "outputs": [],
   "source": [
    "import nltk, re, pprint\n",
    "import re\n",
    "from nltk import word_tokenize"
   ]
  },
  {
   "cell_type": "code",
   "execution_count": 35,
   "metadata": {},
   "outputs": [
    {
     "data": {
      "text/plain": [
       "'Although the Internet AS-level topology has been extensively studied over the past few years, little is known about the details of the AS taxonomy\\nMISC An AS \"node\" can represent a wide variety of organizations, e g , large ISP, or small private business, university, with vastly different network characteristics, external connectivity patterns, network growth tendencies, and other properties that we can hardly neglect while working on veracious Internet representations in simulation environments\\nAIMX In this paper, we introduce a radically new approach based on machine learning techniques to map all the ASes in the Internet into a natural AS taxonomy\\nOWNX We successfully classify ~95.3\\\\% of ASes with expected accuracy of ~78.1\\\\%\\nOWNX We release to the community the AS-level topology dataset augmented with: 1) the AS taxonomy information and 2) the set of AS attributes we used to classify ASes\\nOWNX We believe that this dataset will serve as an invaluable addition to further understanding of the structure and evolution of the Internet\\n### introduction ###\\nMISC The rapid expansion of the Internet in the last two decades has produced a large-scale system of thousands of diverse, independently managed networks that collectively provide global connectivity across a wide spectrum of geopolitical environments\\nMISC From 1997 to 2005 the number of globally routable AS identifiers has increased from less than 2,000 to more than 20,000, exerting significant pressure on interdomain routing as well as other functional and structural parts of the Internet\\nMISC This impressive growth has resulted in a heterogenous and highly complex system that challenges accurate and realistic modeling of the Internet infrastructure\\nMISC In particular, the AS-level topology is an intermix of networks owned and operated by many different organizations, e g , backbone providers, regional providers, access providers, universities and private companies\\nMISC Statistical information that faithfully characterizes different AS types is on the critical path toward understanding the structure of the Internet, as well as for modeling its topology and growth\\nMISC In topology modeling, knowledge of AS types is mandatory for augmenting synthetically constructed or measured AS topologies with realistic intra-AS and inter-AS router-level topologies\\nMISC For example, we expect the network of a dual-homed university to be drastically different from that of a dual-homed small company\\nMISC The university will likely contain dozens of internal routers, thousands of hosts, and many other network elements (switches, servers, firewalls)\\nMISC On the other hand, the small company will most probably have a single router and a simple network topology\\nMISC Since there is such a diversity among different network types, we cannot accurately augment the AS-level topology with appropriate router-level topologies if we cannot characterize the composing ASes\\nMISC Moreover, annotating the ASes in the AS topology with their types is a prerequisite for modeling the evolution of the Internet, since different types of ASes exhibit different growth patterns\\nMISC For example, Internet Service Providers (ISP) grow by attracting new customers and by engaging in business agreements with other ISPs\\nMISC On the other hand, small companies that connect to the Internet through one or few ISPs do not grow significantly over time\\nMISC Thus, categorizing different types of ASes in the Internet is necessary to identify network evolution patterns and develop accurate evolution models\\nMISC An AS taxonomy is also necessary for mapping IP addresses to different types of users\\nMISC For example, in traffic analysis studies its often required to distinguish between packets that come from home and business users\\nMISC Given an AS taxonomy, its possible to realize this goal by checking the type of AS that originates the prefix in which an IP address lies\\nAIMX In this work, we introduce a radically new approach based on machine learning to construct a representative AS taxonomy\\nOWNX We develop an algorithm to classify ASes based on empirically observed differences between AS characteristics\\nBASE We use a large set of data from the Internet Routing Registries~(IRR)~ CITATION  and from RouteViews~ CITATION  to identify intrinsic differences between ASes of different types\\nOWNX Then, we employ a novel machine learning technique to build a classification algorithm that exploits these differences to classify ASes into six representative classes that reflect ASes with different network properties and infrastructures\\nOWNX We derive macroscopic statistics on the different types of ASes in the Internet and validate our results using a sample of~1200 manually identified AS types\\nOWNX Our validation demonstrates that our classification algorithm achieves high accuracy:~78 1\\\\% of the examined classifications were correct\\nOWNX Finally, we make our results and our classifier publicly available to promote further research and understanding of the Internet\\'s structure and evolution\\nOWNX In Section~ we start with a brief discussion of related work\\nOWNX Section~ describes the data we used, and in Section~ we specify the set of AS classes we use in our experiments\\nOWNX Section~ introduces our classification approach and results\\nOWNX We validate them in Section~ and conclude in Section~\\n'"
      ]
     },
     "execution_count": 35,
     "metadata": {},
     "output_type": "execute_result"
    }
   ],
   "source": [
    "# Opens text file\n",
    "text_file = open(\"arxiv_annotate1_13_3.txt\", \"r\")\n",
    "text_file = text_file.read()[22:]    # Skips over first \n",
    "text_file"
   ]
  },
  {
   "cell_type": "code",
   "execution_count": 100,
   "metadata": {
    "scrolled": true
   },
   "outputs": [],
   "source": [
    "# Tokenizes the text file\n",
    "text_list = nltk.word_tokenize(text_file)"
   ]
  },
  {
   "cell_type": "code",
   "execution_count": 98,
   "metadata": {},
   "outputs": [],
   "source": [
    "# Sentence Segmentation\n",
    "sents_list = []   # List of sentences from text \n",
    "temp_list = []    # Stores words temporary to form sentences\n",
    "count = 0         # Keeps track of sentence count\n",
    "\n",
    "# Iterates through the list of words to extract sents\n",
    "for word in text_list:\n",
    "    # If the current word is a label do the following\n",
    "    if re.fullmatch(r'[A-Z]{4}', word):\n",
    "        # Dictionary for each sentence\n",
    "        sents_temp = {}\n",
    "        sents_temp[\"Sentence\"] = \" \".join(temp_list)\n",
    "        sents_temp[\"Label\"] = word\n",
    "        sents_list.append(sents_temp)\n",
    "        \n",
    "        # Reset the list & increment count\n",
    "        temp_list = []\n",
    "        count += 1 \n",
    "    else:\n",
    "        temp_list.append(word)\n",
    "        "
   ]
  },
  {
   "cell_type": "code",
   "execution_count": 99,
   "metadata": {
    "scrolled": false
   },
   "outputs": [
    {
     "data": {
      "text/plain": [
       "[{'Label': 'MISC',\n",
       "  'Sentence': 'Although the Internet AS-level topology has been extensively studied over the past few years , little is known about the details of the AS taxonomy'},\n",
       " {'Label': 'AIMX',\n",
       "  'Sentence': \"An AS `` node '' can represent a wide variety of organizations , e g , large ISP , or small private business , university , with vastly different network characteristics , external connectivity patterns , network growth tendencies , and other properties that we can hardly neglect while working on veracious Internet representations in simulation environments\"},\n",
       " {'Label': 'OWNX',\n",
       "  'Sentence': 'In this paper , we introduce a radically new approach based on machine learning techniques to map all the ASes in the Internet into a natural AS taxonomy'},\n",
       " {'Label': 'OWNX',\n",
       "  'Sentence': 'We successfully classify ~95.3\\\\ % of ASes with expected accuracy of ~78.1\\\\ %'},\n",
       " {'Label': 'OWNX',\n",
       "  'Sentence': 'We release to the community the AS-level topology dataset augmented with : 1 ) the AS taxonomy information and 2 ) the set of AS attributes we used to classify ASes'},\n",
       " {'Label': 'MISC',\n",
       "  'Sentence': 'We believe that this dataset will serve as an invaluable addition to further understanding of the structure and evolution of the Internet # # # introduction # # #'},\n",
       " {'Label': 'MISC',\n",
       "  'Sentence': 'The rapid expansion of the Internet in the last two decades has produced a large-scale system of thousands of diverse , independently managed networks that collectively provide global connectivity across a wide spectrum of geopolitical environments'},\n",
       " {'Label': 'MISC',\n",
       "  'Sentence': 'From 1997 to 2005 the number of globally routable AS identifiers has increased from less than 2,000 to more than 20,000 , exerting significant pressure on interdomain routing as well as other functional and structural parts of the Internet'},\n",
       " {'Label': 'MISC',\n",
       "  'Sentence': 'This impressive growth has resulted in a heterogenous and highly complex system that challenges accurate and realistic modeling of the Internet infrastructure'},\n",
       " {'Label': 'MISC',\n",
       "  'Sentence': 'In particular , the AS-level topology is an intermix of networks owned and operated by many different organizations , e g , backbone providers , regional providers , access providers , universities and private companies'},\n",
       " {'Label': 'MISC',\n",
       "  'Sentence': 'Statistical information that faithfully characterizes different AS types is on the critical path toward understanding the structure of the Internet , as well as for modeling its topology and growth'},\n",
       " {'Label': 'MISC',\n",
       "  'Sentence': 'In topology modeling , knowledge of AS types is mandatory for augmenting synthetically constructed or measured AS topologies with realistic intra-AS and inter-AS router-level topologies'},\n",
       " {'Label': 'MISC',\n",
       "  'Sentence': 'For example , we expect the network of a dual-homed university to be drastically different from that of a dual-homed small company'},\n",
       " {'Label': 'MISC',\n",
       "  'Sentence': 'The university will likely contain dozens of internal routers , thousands of hosts , and many other network elements ( switches , servers , firewalls )'},\n",
       " {'Label': 'MISC',\n",
       "  'Sentence': 'On the other hand , the small company will most probably have a single router and a simple network topology'},\n",
       " {'Label': 'MISC',\n",
       "  'Sentence': 'Since there is such a diversity among different network types , we can not accurately augment the AS-level topology with appropriate router-level topologies if we can not characterize the composing ASes'},\n",
       " {'Label': 'MISC',\n",
       "  'Sentence': 'Moreover , annotating the ASes in the AS topology with their types is a prerequisite for modeling the evolution of the Internet , since different types of ASes exhibit different growth patterns'},\n",
       " {'Label': 'MISC',\n",
       "  'Sentence': 'For example , Internet Service Providers ( ISP ) grow by attracting new customers and by engaging in business agreements with other ISPs'},\n",
       " {'Label': 'MISC',\n",
       "  'Sentence': 'On the other hand , small companies that connect to the Internet through one or few ISPs do not grow significantly over time'},\n",
       " {'Label': 'MISC',\n",
       "  'Sentence': 'Thus , categorizing different types of ASes in the Internet is necessary to identify network evolution patterns and develop accurate evolution models'},\n",
       " {'Label': 'MISC',\n",
       "  'Sentence': 'An AS taxonomy is also necessary for mapping IP addresses to different types of users'},\n",
       " {'Label': 'MISC',\n",
       "  'Sentence': 'For example , in traffic analysis studies its often required to distinguish between packets that come from home and business users'},\n",
       " {'Label': 'AIMX',\n",
       "  'Sentence': 'Given an AS taxonomy , its possible to realize this goal by checking the type of AS that originates the prefix in which an IP address lies'},\n",
       " {'Label': 'OWNX',\n",
       "  'Sentence': 'In this work , we introduce a radically new approach based on machine learning to construct a representative AS taxonomy'},\n",
       " {'Label': 'BASE',\n",
       "  'Sentence': 'We develop an algorithm to classify ASes based on empirically observed differences between AS characteristics'},\n",
       " {'Label': 'OWNX',\n",
       "  'Sentence': 'We use a large set of data from the Internet Routing Registries~ ( IRR ) ~ CITATION and from RouteViews~ CITATION to identify intrinsic differences between ASes of different types'},\n",
       " {'Label': 'OWNX',\n",
       "  'Sentence': 'Then , we employ a novel machine learning technique to build a classification algorithm that exploits these differences to classify ASes into six representative classes that reflect ASes with different network properties and infrastructures'},\n",
       " {'Label': 'OWNX',\n",
       "  'Sentence': 'We derive macroscopic statistics on the different types of ASes in the Internet and validate our results using a sample of~1200 manually identified AS types'},\n",
       " {'Label': 'OWNX',\n",
       "  'Sentence': 'Our validation demonstrates that our classification algorithm achieves high accuracy : ~78 1\\\\ % of the examined classifications were correct'},\n",
       " {'Label': 'OWNX',\n",
       "  'Sentence': \"Finally , we make our results and our classifier publicly available to promote further research and understanding of the Internet 's structure and evolution\"},\n",
       " {'Label': 'OWNX',\n",
       "  'Sentence': 'In Section~ we start with a brief discussion of related work'},\n",
       " {'Label': 'OWNX',\n",
       "  'Sentence': 'Section~ describes the data we used , and in Section~ we specify the set of AS classes we use in our experiments'},\n",
       " {'Label': 'OWNX',\n",
       "  'Sentence': 'Section~ introduces our classification approach and results'}]"
      ]
     },
     "execution_count": 99,
     "metadata": {},
     "output_type": "execute_result"
    }
   ],
   "source": [
    "# List of dictionaries where each entry represents a sentence & its label\n",
    "sents_list"
   ]
  },
  {
   "cell_type": "code",
   "execution_count": null,
   "metadata": {},
   "outputs": [],
   "source": []
  }
 ],
 "metadata": {
  "kernelspec": {
   "display_name": "Python 3",
   "language": "python",
   "name": "python3"
  },
  "language_info": {
   "codemirror_mode": {
    "name": "ipython",
    "version": 3
   },
   "file_extension": ".py",
   "mimetype": "text/x-python",
   "name": "python",
   "nbconvert_exporter": "python",
   "pygments_lexer": "ipython3",
   "version": "3.6.0"
  }
 },
 "nbformat": 4,
 "nbformat_minor": 2
}
